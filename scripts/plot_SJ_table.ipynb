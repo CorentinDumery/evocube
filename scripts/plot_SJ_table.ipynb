{
 "cells": [
  {
   "cell_type": "markdown",
   "metadata": {},
   "source": [
    "Goal : extract the same statistics as [HexaLab](https://www.hexalab.net/) to compare the computation of the Scaled Jacobian over the same hexahedral mesh"
   ]
  },
  {
   "cell_type": "code",
   "execution_count": null,
   "metadata": {},
   "outputs": [],
   "source": [
    "import pandas as pd\n",
    "import numpy as np\n",
    "import matplotlib.pyplot as plt\n",
    "import plotly.express as px"
   ]
  },
  {
   "cell_type": "markdown",
   "metadata": {},
   "source": [
    "# Open CSV file\n",
    "These files are generated with `test_scaled_jacobian`. See `../app/test_scaled_jacobian.cpp` for more information"
   ]
  },
  {
   "cell_type": "code",
   "execution_count": null,
   "metadata": {},
   "outputs": [],
   "source": [
    "CSV_file = '../data/S1/SJ.csv'\n",
    "df = pd.read_csv(CSV_file)"
   ]
  },
  {
   "cell_type": "code",
   "execution_count": null,
   "metadata": {},
   "outputs": [],
   "source": [
    "df.head(10)"
   ]
  },
  {
   "cell_type": "markdown",
   "metadata": {},
   "source": [
    "# Some stats"
   ]
  },
  {
   "cell_type": "code",
   "execution_count": null,
   "metadata": {},
   "outputs": [],
   "source": [
    "print(\"Min = \",round(df['minSJ'].min(),3))\n",
    "print(\"Max = \",round(df['minSJ'].max(),3))\n",
    "print(\"Avg = \",round(df['minSJ'].mean(),3))\n",
    "print(\"Var = \",round(df['minSJ'].var(),3))"
   ]
  },
  {
   "cell_type": "markdown",
   "metadata": {
    "tags": []
   },
   "source": [
    "# Histogram\n",
    "## Compute the bins"
   ]
  },
  {
   "cell_type": "code",
   "execution_count": null,
   "metadata": {},
   "outputs": [],
   "source": [
    "bins = pd.DataFrame()\n",
    "bins['count'], bin_edges = np.histogram(df['minSJ'], bins=100, range=(0,1))\n",
    "bins['value_min'] = bin_edges[:-1]\n",
    "bins['value_avg'] = 0.5 * (bin_edges[:-1] + bin_edges[1:])\n",
    "bins['value_max'] = bin_edges[1:]\n",
    "bins"
   ]
  },
  {
   "cell_type": "markdown",
   "metadata": {},
   "source": [
    "How to use the same bins as HexaLab ?<br>\n",
    "also 100 bins but weird ticks values"
   ]
  },
  {
   "cell_type": "markdown",
   "metadata": {},
   "source": [
    "## Plot with matplotlib (static)"
   ]
  },
  {
   "cell_type": "code",
   "execution_count": null,
   "metadata": {},
   "outputs": [],
   "source": [
    "#recomputing the histogram\n",
    "#df['minSJ'].plot(kind='hist',bins=100, xticks=np.arange(0,1,0.1), xlim=(1,0), figsize=(16,8))\n",
    "\n",
    "#using the bins dataframe\n",
    "bins_sorted = bins.sort_values('value_avg',ascending=False)#eq to flip x axis\n",
    "bins_sorted['value_avg'] = bins_sorted['value_avg'].round(3)\n",
    "ax = bins_sorted.plot.bar(x='value_avg',y='count',figsize=(16,8),rot=90)\n",
    "#remove some x labels\n",
    "for i, t in enumerate(ax.get_xticklabels()):\n",
    "    if (i % 10) != 0:\n",
    "        t.set_visible(False)"
   ]
  },
  {
   "cell_type": "markdown",
   "metadata": {},
   "source": [
    "## Plot with Plotly (interactive)"
   ]
  },
  {
   "cell_type": "code",
   "execution_count": null,
   "metadata": {},
   "outputs": [],
   "source": [
    "#recomputing the histogram\n",
    "#fig = px.histogram(df['minSJ'], nbins=100)\n",
    "\n",
    "#using the bins dataframe\n",
    "fig = px.bar(x=bins['value_avg'], y=bins['count'], labels={'x':'Scaled Jacobian', 'y':'count'})\n",
    "fig.update_xaxes(range=[1, 0])#flip x axis\n",
    "fig.show()"
   ]
  },
  {
   "cell_type": "code",
   "execution_count": null,
   "metadata": {},
   "outputs": [],
   "source": []
  }
 ],
 "metadata": {
  "kernelspec": {
   "display_name": "Python 3",
   "language": "python",
   "name": "python3"
  },
  "language_info": {
   "codemirror_mode": {
    "name": "ipython",
    "version": 3
   },
   "file_extension": ".py",
   "mimetype": "text/x-python",
   "name": "python",
   "nbconvert_exporter": "python",
   "pygments_lexer": "ipython3",
   "version": "3.8.10"
  }
 },
 "nbformat": 4,
 "nbformat_minor": 5
}
